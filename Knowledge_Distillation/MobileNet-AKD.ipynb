{
 "cells": [
  {
   "cell_type": "markdown",
   "metadata": {},
   "source": [
    "**Set up all the neccessary libraries**"
   ]
  },
  {
   "cell_type": "code",
   "execution_count": 1,
   "metadata": {},
   "outputs": [],
   "source": [
    "import torch\n",
    "import torch.nn as nn\n",
    "import torchvision.models as models\n",
    "import numpy as np\n",
    "import matplotlib.pyplot as plt\n",
    "import os\n",
    "from torch.optim import Adam\n",
    "import nibabel as nib\n",
    "from torch.utils.data import Dataset, DataLoader, random_split\n",
    "from torchvision import transforms\n",
    "from PIL import Image\n",
    "import torch.nn as nn\n",
    "import torch.optim as optim\n",
    "import torch.optim.lr_scheduler as lr_scheduler"
   ]
  },
  {
   "cell_type": "markdown",
   "metadata": {},
   "source": [
    "**Check if the GPU is available**"
   ]
  },
  {
   "cell_type": "markdown",
   "metadata": {},
   "source": [
    "If there is a GPU available, the device will be cuda otherwise it will be cpu"
   ]
  },
  {
   "cell_type": "code",
   "execution_count": 6,
   "metadata": {},
   "outputs": [
    {
     "name": "stdout",
     "output_type": "stream",
     "text": [
      "Device : cuda\n"
     ]
    }
   ],
   "source": [
    "# Determine the device\n",
    "device = torch.device('cuda' if torch.cuda.is_available() else 'cpu')\n",
    "print(f'Device : {device}')"
   ]
  },
  {
   "cell_type": "markdown",
   "metadata": {},
   "source": [
    "**Load dataset**"
   ]
  },
  {
   "cell_type": "code",
   "execution_count": 2,
   "metadata": {},
   "outputs": [
    {
     "name": "stdout",
     "output_type": "stream",
     "text": [
      "Training path : C:\\Users\\user\\Desktop\\Brain-Tumor\\Train\\Brain_Tumor_Classification\\Training\n",
      "Testing path : C:\\Users\\user\\Desktop\\Brain-Tumor\\Train\\Brain_Tumor_Classification\\Testing\n"
     ]
    }
   ],
   "source": [
    "base_path = r'C:\\Users\\user\\Desktop\\Brain-Tumor\\Train\\Brain_Tumor_Classification'\n",
    "\n",
    "train_path = os.path.join(base_path, 'Training')\n",
    "testing_path = os.path.join(base_path, 'Testing')\n",
    "\n",
    "if not (os.path.exists(train_path) and os.path.exists(testing_path)):\n",
    "    print('Failed to find the data path ')\n",
    "else:\n",
    "    print(f'Training path : {train_path}')\n",
    "    print(f'Testing path : {testing_path}')"
   ]
  },
  {
   "cell_type": "code",
   "execution_count": 3,
   "metadata": {},
   "outputs": [],
   "source": [
    "# Define a Dataset class\n",
    "\n",
    "class CustomDataset(Dataset):\n",
    "    def __init__(self, root_dir, transform=None):\n",
    "        super().__init__()\n",
    "        self.root_dir = root_dir\n",
    "        self.transform = transform\n",
    "        self.img_paths = []\n",
    "        self.labels = []\n",
    "\n",
    "        # Mapping folder names to labels \n",
    "        class_folders = sorted(os.listdir(root_dir))\n",
    "        self.class_to_idx = {class_folder:idx for idx, class_folder in enumerate(class_folders)}\n",
    "\n",
    "        for class_folder in class_folders:\n",
    "            folder_path = os.path.join(root_dir,class_folder)\n",
    "            for img_name in os.listdir(folder_path):\n",
    "                img_path = os.path.join(folder_path,img_name)\n",
    "                self.img_paths.append(img_path)\n",
    "                self.labels.append(self.class_to_idx[class_folder])\n",
    "\n",
    "    def __len__(self):\n",
    "        return len(self.img_paths)\n",
    "    \n",
    "    def __getitem__(self, idx):\n",
    "        img_path = self.img_paths[idx]\n",
    "        image = Image.open(img_path).convert('RGB')\n",
    "        label = self.labels[idx]\n",
    "\n",
    "        if self.transform:\n",
    "            image = self.transform(image)\n",
    "        \n",
    "        return image,label"
   ]
  },
  {
   "cell_type": "code",
   "execution_count": 4,
   "metadata": {},
   "outputs": [],
   "source": [
    "# Define your transform\n",
    "transform = transforms.Compose([\n",
    "    # Randomly flip the image horizontally with a 50% chance\n",
    "    transforms.RandomHorizontalFlip(p=0.5),\n",
    "    \n",
    "    # Randomly flip the image vertically with a 50% chance\n",
    "    transforms.RandomVerticalFlip(p=0.5),\n",
    "    \n",
    "    # Randomly rotate the image by ±10 degrees\n",
    "    transforms.RandomRotation(degrees=10),\n",
    "    \n",
    "    # Resize the image to 224x224 pixels\n",
    "    transforms.Resize((224, 224)),\n",
    "    \n",
    "    # Convert the image to a tensor with values in the range [0, 1]\n",
    "    transforms.ToTensor(),\n",
    "    \n",
    "    # Normalize the image with mean and standard deviation\n",
    "    # Use values based on your dataset, for example, for ImageNet:\n",
    "    transforms.Normalize(mean=[0.485, 0.456, 0.406], std=[0.229, 0.224, 0.225])\n",
    "])\n",
    "\n",
    "\n",
    "# Load the dataset\n",
    "train_dataset = CustomDataset(root_dir=train_path, transform=transform)\n",
    "test_dataset = CustomDataset(root_dir=testing_path, transform=transform)\n",
    "\n",
    "\n",
    "\n",
    "# Calculate lengths for training and validation sets\n",
    "train_size = int(0.8 * len(train_dataset))\n",
    "valid_size = len(train_dataset) - train_size\n",
    "\n",
    "# Split the dataset\n",
    "train_subset, valid_subset = random_split(train_dataset, [train_size, valid_size])\n",
    "\n",
    "\n",
    "\n",
    "\n",
    "# Create DataLoaders for each subset\n",
    "train_loader = DataLoader(train_subset, batch_size=16, shuffle=True)\n",
    "valid_loader = DataLoader(valid_subset, batch_size=16, shuffle=False)\n",
    "\n",
    "# Load the test dataset (remains unchanged)\n",
    "test_loader = DataLoader(test_dataset, batch_size=16, shuffle=False)"
   ]
  },
  {
   "cell_type": "code",
   "execution_count": 7,
   "metadata": {},
   "outputs": [
    {
     "name": "stdout",
     "output_type": "stream",
     "text": [
      "torch.Size([16, 3, 224, 224])\n",
      "torch.Size([16])\n"
     ]
    }
   ],
   "source": [
    "# Test data loader\n",
    "\n",
    "# Iterate through the data by batch\n",
    "for image, label in train_loader:\n",
    "    # Move the data to GPU for fast training\n",
    "    img = image.to(device)\n",
    "    label = label.to(device)\n",
    "\n",
    "    # We put break here since we just want to check only a single batch of the data\n",
    "    break\n",
    "\n",
    "print(img.shape)\n",
    "print(label.shape)"
   ]
  },
  {
   "cell_type": "markdown",
   "metadata": {},
   "source": [
    "**Teacher**"
   ]
  },
  {
   "cell_type": "code",
   "execution_count": 72,
   "metadata": {},
   "outputs": [],
   "source": [
    "\n",
    "# Define the custom model\n",
    "class Teacher(nn.Module):\n",
    "    def __init__(self, num_classes=4, dropout_prob=0.2):\n",
    "        super(Teacher, self).__init__()\n",
    "        # Load the pre-trained MobileNetV2 model\n",
    "        mobilenet = models.mobilenet_v2(pretrained=True)\n",
    "        \n",
    "        #freeze all layers\n",
    "        for param in mobilenet.parameters():\n",
    "            param.requires_grad = False\n",
    "        \n",
    "        # Replace the classifier with a custom classifier\n",
    "        self.features = mobilenet.features\n",
    "        self.classifier = nn.Sequential(\n",
    "            nn.Dropout(p=dropout_prob),  # Dropout layer with 20% probability\n",
    "            nn.Linear(mobilenet.last_channel, 512),  # Linear layer with 1000 output features\n",
    "            nn.ReLU(inplace=True),  # ReLU activation\n",
    "            nn.Dropout(p=dropout_prob),  # Additional dropout layer\n",
    "            nn.Linear(512, num_classes)  # Final linear layer with 4 output classes\n",
    "        )\n",
    "\n",
    "        # Unfreeze the last 5 layers of MobileNetV2\n",
    "        self.unfreeze_last_n_layers(mobilenet.features, 5)\n",
    "        \n",
    "    def unfreeze_last_n_layers(self, module, n):\n",
    "        \"\"\"\n",
    "        Unfreeze the last `n` layers of a given module.\n",
    "        \"\"\"\n",
    "        # Identify the named modules\n",
    "        named_modules = list(module.named_children())\n",
    "        # Iterate over the last `n` layers and unfreeze them\n",
    "        for i, (name, child) in enumerate(named_modules[-n:]):\n",
    "            for param in child.parameters():\n",
    "                param.requires_grad = True\n",
    "            print(f\"Unfreezing layer: {name}\")\n",
    "\n",
    "    def forward(self, x):\n",
    "        x = self.features(x)\n",
    "        x = x.mean([2, 3])  # Global average pooling\n",
    "        x = self.classifier(x)\n",
    "        return x"
   ]
  },
  {
   "cell_type": "code",
   "execution_count": 73,
   "metadata": {},
   "outputs": [
    {
     "name": "stdout",
     "output_type": "stream",
     "text": [
      "Unfreezing layer: 14\n",
      "Unfreezing layer: 15\n",
      "Unfreezing layer: 16\n",
      "Unfreezing layer: 17\n",
      "Unfreezing layer: 18\n"
     ]
    }
   ],
   "source": [
    "# Instantiate the model\n",
    "teacher = Teacher(num_classes=4)\n",
    "teacher = teacher.to(device)"
   ]
  },
  {
   "cell_type": "markdown",
   "metadata": {},
   "source": [
    "**Check the number of parameters**"
   ]
  },
  {
   "cell_type": "markdown",
   "metadata": {},
   "source": [
    "In this part, we can check the number of parameters that either require or don't require gradient update."
   ]
  },
  {
   "cell_type": "code",
   "execution_count": 74,
   "metadata": {},
   "outputs": [
    {
     "name": "stdout",
     "output_type": "stream",
     "text": [
      "The number of parameters : 2881796\n"
     ]
    }
   ],
   "source": [
    "# Calculate the total number of parameters\n",
    "total_params_teacher = sum(p.numel() for p in teacher.parameters())\n",
    "\n",
    "print(f'The number of parameters : {total_params_teacher}')"
   ]
  },
  {
   "cell_type": "code",
   "execution_count": 76,
   "metadata": {},
   "outputs": [
    {
     "name": "stdout",
     "output_type": "stream",
     "text": [
      "torch.Size([16, 4])\n"
     ]
    }
   ],
   "source": [
    "# Test the model and input compatability\n",
    "\n",
    "test = teacher(img)\n",
    "\n",
    "print(test.shape)"
   ]
  },
  {
   "cell_type": "code",
   "execution_count": 79,
   "metadata": {},
   "outputs": [],
   "source": [
    "criterion = nn.CrossEntropyLoss()\n",
    "optimizer_teacher = optim.Adam(teacher.parameters(), lr=0.001)\n",
    "scheduler_teacher = lr_scheduler.StepLR(optimizer_teacher, step_size=8, gamma=0.1)\n",
    "num_epochs = 30\n",
    "patience = 8\n",
    "best_val_acc = 0.0\n",
    "epochs_no_improve = 0"
   ]
  },
  {
   "cell_type": "code",
   "execution_count": 80,
   "metadata": {},
   "outputs": [
    {
     "name": "stdout",
     "output_type": "stream",
     "text": [
      "Epoch [1/15], Train Loss: 0.3850, Validation Loss: 0.2382, Validation Accuracy: 0.9129\n",
      "Epoch [2/15], Train Loss: 0.3082, Validation Loss: 0.2390, Validation Accuracy: 0.9146\n",
      "Epoch [3/15], Train Loss: 0.2957, Validation Loss: 0.2356, Validation Accuracy: 0.9251\n",
      "Epoch [4/15], Train Loss: 0.2885, Validation Loss: 0.2165, Validation Accuracy: 0.9164\n",
      "Epoch [5/15], Train Loss: 0.2656, Validation Loss: 0.1737, Validation Accuracy: 0.9425\n",
      "Epoch [6/15], Train Loss: 0.2435, Validation Loss: 0.1868, Validation Accuracy: 0.9355\n",
      "Epoch [7/15], Train Loss: 0.2395, Validation Loss: 0.1704, Validation Accuracy: 0.9373\n",
      "Epoch [8/15], Train Loss: 0.1950, Validation Loss: 0.1677, Validation Accuracy: 0.9408\n",
      "Epoch [9/15], Train Loss: 0.1868, Validation Loss: 0.1707, Validation Accuracy: 0.9338\n",
      "Epoch [10/15], Train Loss: 0.1725, Validation Loss: 0.1674, Validation Accuracy: 0.9355\n",
      "Epoch [11/15], Train Loss: 0.1794, Validation Loss: 0.1631, Validation Accuracy: 0.9443\n",
      "Epoch [12/15], Train Loss: 0.1692, Validation Loss: 0.1977, Validation Accuracy: 0.9338\n",
      "Epoch [13/15], Train Loss: 0.1618, Validation Loss: 0.1318, Validation Accuracy: 0.9460\n",
      "Epoch [14/15], Train Loss: 0.1332, Validation Loss: 0.1550, Validation Accuracy: 0.9547\n",
      "Epoch [15/15], Train Loss: 0.1324, Validation Loss: 0.1513, Validation Accuracy: 0.9443\n"
     ]
    },
    {
     "data": {
      "image/png": "[encoded data removed]",
      "text/plain": [
       "<Figure size 1200x500 with 2 Axes>"
      ]
     },
     "metadata": {},
     "output_type": "display_data"
    }
   ],
   "source": [
    "# Track Loss and Accuracy\n",
    "num_epochs = 15\n",
    "train_loss = []\n",
    "val_loss = []\n",
    "train_accuracy = []\n",
    "val_accuracy = []\n",
    "\n",
    "for epoch in range(num_epochs):\n",
    "    # Assign the model in the training mode\n",
    "    teacher.train()\n",
    "    running_loss = 0.0\n",
    "    train_correct = 0\n",
    "    train_total = 0\n",
    "\n",
    "    for inputs, labels in train_loader:\n",
    "        inputs, labels = inputs.to(device), labels.to(device)\n",
    "\n",
    "        optimizer_teacher.zero_grad()\n",
    "\n",
    "        outputs = teacher(inputs)\n",
    "        loss = criterion(outputs, labels)\n",
    "        loss.backward()\n",
    "        optimizer_teacher.step()\n",
    "\n",
    "        running_loss += loss.item()\n",
    "\n",
    "        # Calculate training accuracy\n",
    "        _, predicted = torch.max(outputs, 1)\n",
    "        train_correct += (predicted == labels).sum().item()\n",
    "        train_total += labels.size(0)\n",
    "\n",
    "    avg_train_loss = running_loss / len(train_loader)\n",
    "    train_loss.append(avg_train_loss)\n",
    "    train_accuracy.append(train_correct / train_total)\n",
    "\n",
    "    # Validation Mode\n",
    "    teacher.eval()\n",
    "    val_correct = 0\n",
    "    val_total = 0\n",
    "    val_loss_epoch = 0  # Reset for validation loss\n",
    "\n",
    "    with torch.no_grad():\n",
    "        for inputs, labels in valid_loader:\n",
    "            inputs, labels = inputs.to(device), labels.to(device)\n",
    "            predictions = teacher(inputs)\n",
    "            loss = criterion(predictions, labels)\n",
    "            val_loss_epoch += loss.item()\n",
    "\n",
    "            y_pred = torch.argmax(predictions, 1)\n",
    "            val_correct += (y_pred == labels).sum().item()\n",
    "            val_total += labels.size(0)\n",
    "\n",
    "    avg_val_loss = val_loss_epoch / len(valid_loader)\n",
    "    val_loss.append(avg_val_loss)\n",
    "    val_accuracy.append(val_correct / val_total)\n",
    "\n",
    "    print(f'Epoch [{epoch + 1}/{num_epochs}], '\n",
    "          f'Train Loss: {avg_train_loss:.4f}, '\n",
    "          f'Validation Loss: {avg_val_loss:.4f}, '\n",
    "          f'Validation Accuracy: {val_accuracy[-1]:.4f}')\n",
    "\n",
    "# Plot training and validation loss and accuracy\n",
    "plt.figure(figsize=(12, 5))\n",
    "plt.subplot(1, 2, 1)\n",
    "plt.plot(train_loss, label='Training Loss')\n",
    "plt.plot(val_loss, label='Validation Loss')\n",
    "plt.title('Loss over Epochs')\n",
    "plt.xlabel('Epochs')\n",
    "plt.ylabel('Loss')\n",
    "plt.legend()\n",
    "\n",
    "plt.subplot(1, 2, 2)\n",
    "plt.plot(train_accuracy, label='Training Accuracy')\n",
    "plt.plot(val_accuracy, label='Validation Accuracy')\n",
    "plt.title('Accuracy over Epochs')\n",
    "plt.xlabel('Epochs')\n",
    "plt.ylabel('Accuracy')\n",
    "plt.legend()\n",
    "\n",
    "plt.tight_layout()\n",
    "plt.show()"
   ]
  },
  {
   "cell_type": "markdown",
   "metadata": {},
   "source": [
    "**Student**"
   ]
  },
  {
   "cell_type": "code",
   "execution_count": 63,
   "metadata": {},
   "outputs": [],
   "source": [
    "import torch\n",
    "import torch.nn as nn\n",
    "import torch.optim as optim\n",
    "import torch.nn.functional as F\n",
    "import torchvision\n",
    "from torchvision.models import resnet18\n",
    "import torchvision.transforms as transforms\n",
    "from torch.utils.data import random_split, DataLoader\n",
    "import matplotlib.pyplot as plt\n",
    "\n",
    "\n",
    "class Student(nn.Module):\n",
    "    def __init__(self):\n",
    "        super(Student, self).__init__()\n",
    "        self.conv1 = nn.Conv2d(3, 32, kernel_size=(3, 3), stride=(1, 1), padding=(1, 1))\n",
    "        self.conv2 = nn.Conv2d(32, 64, kernel_size=(3, 3), stride=(1, 1), padding=(1, 1))\n",
    "        \n",
    "        # Use adaptive pooling to ensure a consistent output size\n",
    "        self.adaptive_pool = nn.AdaptiveAvgPool2d((8, 8))  # Final output size of 8x8\n",
    "        self.fc1 = nn.Linear(64 * 8 * 8, 128)  # Adjust in_features to match the output from pooling\n",
    "        self.fc2 = nn.Linear(128, 4)\n",
    "\n",
    "    def forward(self, x):\n",
    "        x = F.relu(F.max_pool2d(self.conv1(x), 2))  # Pooling layer after conv1\n",
    "        x = F.relu(F.max_pool2d(self.conv2(x), 2))  # Pooling layer after conv2\n",
    "        \n",
    "        # Apply adaptive pooling\n",
    "        x = self.adaptive_pool(x)  # Output shape will be [batch_size, 64, 8, 8]\n",
    "        \n",
    "        x = x.view(x.size(0), -1)  # Flatten\n",
    "        x = F.relu(self.fc1(x))\n",
    "        x = self.fc2(x)\n",
    "        return x\n"
   ]
  },
  {
   "cell_type": "code",
   "execution_count": 64,
   "metadata": {},
   "outputs": [],
   "source": [
    "student = Student()\n",
    "student = student.to(device)"
   ]
  },
  {
   "cell_type": "code",
   "execution_count": 89,
   "metadata": {},
   "outputs": [
    {
     "name": "stdout",
     "output_type": "stream",
     "text": [
      "The number of parameters : 544324\n"
     ]
    }
   ],
   "source": [
    "# Calculate the total number of parameters\n",
    "total_params_student = sum(p.numel() for p in student.parameters())\n",
    "\n",
    "print(f'The number of parameters : {total_params_student}')"
   ]
  },
  {
   "cell_type": "code",
   "execution_count": 66,
   "metadata": {},
   "outputs": [
    {
     "name": "stdout",
     "output_type": "stream",
     "text": [
      "torch.Size([16, 4])\n"
     ]
    }
   ],
   "source": [
    "# Test the model and input compatability\n",
    "input_tensor = torch.randn(16, 3, 28, 28).to(device)  # Batch of 16 images\n",
    "test = student(input_tensor)\n",
    "\n",
    "print(test.shape)"
   ]
  },
  {
   "cell_type": "markdown",
   "metadata": {},
   "source": [
    "**Knowledge Distillation + Adversarial Learning**"
   ]
  },
  {
   "cell_type": "code",
   "execution_count": 81,
   "metadata": {},
   "outputs": [],
   "source": [
    "# Distillation Loss function\n",
    "def distillation_loss(student_logits, teacher_logits, labels, T=3, alpha=0.7):\n",
    "    soft_labels = F.softmax(teacher_logits / T, dim=1)\n",
    "    distill_loss = F.kl_div(F.log_softmax(student_logits / T, dim=1), soft_labels, reduction='batchmean') * (T * T)\n",
    "    ce_loss = F.cross_entropy(student_logits, labels)\n",
    "    return alpha * distill_loss + (1 - alpha) * ce_loss"
   ]
  },
  {
   "cell_type": "code",
   "execution_count": 82,
   "metadata": {},
   "outputs": [],
   "source": [
    "# FGSM attack for adversarial examples\n",
    "def fgsm_attack(model, data, epsilon, labels):\n",
    "    data.requires_grad = True\n",
    "    output = model(data)\n",
    "    loss = F.cross_entropy(output, labels)\n",
    "    model.zero_grad()\n",
    "    loss.backward()\n",
    "    data_grad = data.grad.data\n",
    "    perturbed_data = data + epsilon * data_grad.sign()\n",
    "    return perturbed_data"
   ]
  },
  {
   "cell_type": "markdown",
   "metadata": {},
   "source": [
    "**Train**"
   ]
  },
  {
   "cell_type": "code",
   "execution_count": 87,
   "metadata": {},
   "outputs": [],
   "source": [
    "import torch.optim as optim\n",
    "import torch.optim.lr_scheduler as lr_scheduler\n",
    "\n",
    "criterion = nn.CrossEntropyLoss()\n",
    "optimizer = optim.Adam(student.parameters(), lr=0.0001)\n",
    "scheduler = lr_scheduler.StepLR(optimizer, step_size=8, gamma=0.1)\n",
    "num_epochs = 10\n",
    "patience = 8\n",
    "best_val_acc = 0.0\n",
    "epochs_no_improve = 0\n",
    "epsilon = 0.01\n",
    "T = 3\n",
    "alpha = 0.8"
   ]
  },
  {
   "cell_type": "code",
   "execution_count": 88,
   "metadata": {},
   "outputs": [
    {
     "name": "stdout",
     "output_type": "stream",
     "text": [
      "Epoch [1/10], Train Loss: 3.0507, Validation Loss: 1.3799, Validation Accuracy: 0.2997\n",
      "Epoch [2/10], Train Loss: 3.0505, Validation Loss: 1.3801, Validation Accuracy: 0.2962\n",
      "Epoch [3/10], Train Loss: 3.0504, Validation Loss: 1.3798, Validation Accuracy: 0.2997\n"
     ]
    },
    {
     "ename": "KeyboardInterrupt",
     "evalue": "",
     "output_type": "error",
     "traceback": [
      "\u001b[1;31m---------------------------------------------------------------------------\u001b[0m",
      "\u001b[1;31mKeyboardInterrupt\u001b[0m                         Traceback (most recent call last)",
      "Cell \u001b[1;32mIn[88], line 47\u001b[0m\n\u001b[0;32m     45\u001b[0m     loss\u001b[38;5;241m.\u001b[39mbackward()\n\u001b[0;32m     46\u001b[0m     optimizer_teacher\u001b[38;5;241m.\u001b[39mstep()\n\u001b[1;32m---> 47\u001b[0m     running_loss \u001b[38;5;241m+\u001b[39m\u001b[38;5;241m=\u001b[39m \u001b[43mloss\u001b[49m\u001b[38;5;241;43m.\u001b[39;49m\u001b[43mitem\u001b[49m\u001b[43m(\u001b[49m\u001b[43m)\u001b[49m\n\u001b[0;32m     49\u001b[0m     \u001b[38;5;66;03m#  # Calculate training accuracy\u001b[39;00m\n\u001b[0;32m     50\u001b[0m     \u001b[38;5;66;03m# _, predicted = torch.max(outputs, 1)\u001b[39;00m\n\u001b[0;32m     51\u001b[0m     \u001b[38;5;66;03m# train_total += labels.size(0)  # Accumulate the total number of labels\u001b[39;00m\n\u001b[0;32m     52\u001b[0m     \u001b[38;5;66;03m# train_correct += (predicted == labels).sum().item()  # Accumulate the correct predictions\u001b[39;00m\n\u001b[0;32m     53\u001b[0m \n\u001b[0;32m     54\u001b[0m  \u001b[38;5;66;03m# Calculate average loss and accuracy for the epoch\u001b[39;00m\n\u001b[0;32m     56\u001b[0m avg_train_loss \u001b[38;5;241m=\u001b[39m running_loss \u001b[38;5;241m/\u001b[39m \u001b[38;5;28mlen\u001b[39m(train_loader)\n",
      "\u001b[1;31mKeyboardInterrupt\u001b[0m: "
     ]
    }
   ],
   "source": [
    "# Track Loss and Accuracy\n",
    "train_loss = []\n",
    "val_loss = []\n",
    "train_accuracy = []\n",
    "val_accuracy = []\n",
    "\n",
    "for epoch in range(num_epochs):\n",
    "    # Assign the model in the training mode\n",
    "    teacher.eval()\n",
    "    student.train()\n",
    "    running_loss = 0.0\n",
    "    train_correct = 0\n",
    "    train_total = 0\n",
    "\n",
    "    for inputs, labels in train_loader:\n",
    "        inputs, labels = inputs.to(device), labels.to(device)\n",
    "        optimizer_teacher.zero_grad()\n",
    "\n",
    "\n",
    "\n",
    "         # Forward pass through teacher and student on clean data\n",
    "        teacher_logits = teacher(inputs)\n",
    "        student_logits = student(inputs)\n",
    "\n",
    "        # Generate adversarial examples using FGSM attack\n",
    "        adv_data = fgsm_attack(student, inputs, epsilon, labels)\n",
    "        student_adv_logits = student(adv_data)\n",
    "\n",
    "        # outputs = model(inputs)\n",
    "        student_loss = criterion(student_logits, labels)\n",
    "        #teacher_loss = criterion(teacher_logits, labels)\n",
    "\n",
    "        # Generate adversarial examples using FGSM attack\n",
    "        adv_data = fgsm_attack(student, inputs, epsilon, labels)\n",
    "        student_adv_logits = student(adv_data)\n",
    "\n",
    "        # Loss: Combine distillation loss and adversarial training loss\n",
    "        loss_clean = distillation_loss(student_logits, teacher_logits, labels, T, alpha)\n",
    "        loss_adv = F.cross_entropy(student_adv_logits, labels)\n",
    "        loss = loss_clean + loss_adv + student_loss\n",
    "\n",
    "\n",
    "\n",
    "\n",
    "        loss.backward()\n",
    "        optimizer_teacher.step()\n",
    "        running_loss += loss.item()\n",
    "\n",
    "\n",
    "     # Calculate average loss and accuracy for the epoch\n",
    "    \n",
    "    avg_train_loss = running_loss / len(train_loader)\n",
    "    train_loss.append(avg_train_loss)\n",
    "\n",
    "    # Validation Mode\n",
    "    student.eval()\n",
    "    val_correct = 0\n",
    "    val_total = 0\n",
    "    val_loss_epoch = 0  # Reset for validation loss\n",
    "\n",
    "    with torch.no_grad():\n",
    "        for inputs, labels in valid_loader:\n",
    "            inputs, labels = inputs.to(device), labels.to(device)\n",
    "            predictions = student(inputs)\n",
    "            loss = criterion(predictions, labels)\n",
    "            val_loss_epoch += loss.item()\n",
    "\n",
    "            y_pred = torch.argmax(predictions, 1)\n",
    "            val_correct += (y_pred == labels).sum().item()\n",
    "            val_total += labels.size(0)\n",
    "\n",
    "    avg_val_loss = val_loss_epoch / len(valid_loader)\n",
    "    val_loss.append(avg_val_loss)\n",
    "    val_accuracy.append(val_correct / val_total)\n",
    "\n",
    "\n",
    "    print(f'Epoch [{epoch + 1}/{num_epochs}], '\n",
    "          f'Train Loss: {avg_train_loss:.4f}, '\n",
    "          f'Validation Loss: {avg_val_loss:.4f}, '\n",
    "          f'Validation Accuracy: {val_accuracy[-1]:.4f}')\n",
    "\n",
    "# Plot training and validation loss and accuracy\n",
    "plt.figure(figsize=(12, 5))\n",
    "plt.subplot(1, 2, 1)\n",
    "plt.plot(train_loss, label='Training Loss')\n",
    "plt.plot(val_loss, label='Validation Loss')\n",
    "plt.title('Loss over Epochs')\n",
    "plt.xlabel('Epochs')\n",
    "plt.ylabel('Loss')\n",
    "plt.legend()\n",
    "\n",
    "plt.subplot(1, 2, 2)\n",
    "plt.plot(train_accuracy, label='Training Accuracy')\n",
    "plt.plot(val_accuracy, label='Validation Accuracy')\n",
    "plt.title('Accuracy over Epochs')\n",
    "plt.xlabel('Epochs')\n",
    "plt.ylabel('Accuracy')\n",
    "plt.legend()\n",
    "\n",
    "plt.tight_layout()\n",
    "plt.show()"
   ]
  }
 ],
 "metadata": {
  "kernelspec": {
   "display_name": "Python 3",
   "language": "python",
   "name": "python3"
  },
  "language_info": {
   "codemirror_mode": {
    "name": "ipython",
    "version": 3
   },
   "file_extension": ".py",
   "mimetype": "text/x-python",
   "name": "python",
   "nbconvert_exporter": "python",
   "pygments_lexer": "ipython3",
   "version": "3.9.0"
  }
 },
 "nbformat": 4,
 "nbformat_minor": 2
}
